{
<<<<<<< HEAD
 "cells": [
  {
   "cell_type": "markdown",
   "id": "e2dfd131",
   "metadata": {},
   "source": [
    "### CA1 DATA PREPARATION CARLA RIBERA    2022368\n"
   ]
  },
  {
   "cell_type": "code",
   "execution_count": null,
   "id": "515ff76c",
   "metadata": {},
   "outputs": [],
   "source": [
    "Hello how are u"
   ]
  }
 ],
 "metadata": {
  "kernelspec": {
   "display_name": "Python 3 (ipykernel)",
   "language": "python",
   "name": "python3"
  },
  "language_info": {
   "codemirror_mode": {
    "name": "ipython",
    "version": 3
   },
   "file_extension": ".py",
   "mimetype": "text/x-python",
   "name": "python",
   "nbconvert_exporter": "python",
   "pygments_lexer": "ipython3",
   "version": "3.11.4"
  }
 },
=======
 "cells": [],
 "metadata": {},
>>>>>>> 8925959cf78c9f9574405b4db9f3c56ddc4e46ee
 "nbformat": 4,
 "nbformat_minor": 5
}
